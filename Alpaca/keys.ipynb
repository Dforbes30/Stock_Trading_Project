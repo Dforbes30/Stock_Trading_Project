{
 "cells": [
  {
   "cell_type": "code",
   "execution_count": null,
   "id": "009e7d54",
   "metadata": {},
   "outputs": [],
   "source": [
    "endpoint = \"https://paper-api.alpaca.markets\"\n",
    "key_id = \"PKN4EHMYG5PG89HR9M3Q\"\n",
    "secret_key = \"bP7j04BL6NTVdCCKJbkV4E9qvl5udMTvp9dYbmj0\""
   ]
  }
 ],
 "metadata": {
  "kernelspec": {
   "display_name": "Python 3 (ipykernel)",
   "language": "python",
   "name": "python3"
  },
  "language_info": {
   "codemirror_mode": {
    "name": "ipython",
    "version": 3
   },
   "file_extension": ".py",
   "mimetype": "text/x-python",
   "name": "python",
   "nbconvert_exporter": "python",
   "pygments_lexer": "ipython3",
   "version": "3.9.7"
  }
 },
 "nbformat": 4,
 "nbformat_minor": 5
}
